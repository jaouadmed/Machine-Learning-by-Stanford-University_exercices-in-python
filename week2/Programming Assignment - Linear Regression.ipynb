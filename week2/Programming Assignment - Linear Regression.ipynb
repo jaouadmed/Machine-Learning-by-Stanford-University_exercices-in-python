{
 "cells": [
  {
   "cell_type": "markdown",
   "metadata": {},
   "source": [
    "# Programming Exercise 1: Linear Regression\n",
    "## 2 Linear regression with one variable\n",
    "### 2.1 Plotting the Data"
   ]
  },
  {
   "cell_type": "code",
   "execution_count": 28,
   "metadata": {},
   "outputs": [],
   "source": [
    "import numpy as np\n",
    "import matplotlib.pyplot as mtp\n",
    "\n",
    "# data = load('ex1data1.txt')\n",
    "# X = data(:, 1) \n",
    "# y = data(:, 2)\n",
    "# m = length(y)\n",
    "# code to load data from file to variables\n",
    "\n",
    "data = np.loadtxt('ex1data1.txt', delimiter=\",\")\n",
    "x = data[:, 0]\n",
    "y = data[:, 1]\n",
    "m = np.size(y)"
   ]
  },
  {
   "cell_type": "code",
   "execution_count": 35,
   "metadata": {},
   "outputs": [
    {
     "data": {
      "image/png": "[encoded data removed]",
      "text/plain": [
       "<Figure size 432x288 with 1 Axes>"
      ]
     },
     "metadata": {
      "needs_background": "light"
     },
     "output_type": "display_data"
    }
   ],
   "source": [
    "# plot(x, y, 'rx', 'MarkerSize', 10);\n",
    "# ylabel('Profit in $10,000s');\n",
    "# xlabel('Population of City in 10,000s');\n",
    "# code to plot data on a Scatter plot\n",
    "\n",
    "mtp.plot(x, y, 'rx');\n",
    "mtp.ylabel('Profit in $10,000s');\n",
    "mtp.xlabel('Population of City in 10,000s');"
   ]
  },
  {
   "cell_type": "markdown",
   "metadata": {},
   "source": [
    "### 2.2 Gradient Descent"
   ]
  },
  {
   "attachments": {},
   "cell_type": "markdown",
   "metadata": {},
   "source": [
    "#### 2.2.3 Computing the cost J(θ)"
   ]
  },
  {
   "cell_type": "code",
   "execution_count": 112,
   "metadata": {},
   "outputs": [],
   "source": [
    "# preparing data\n",
    "\n",
    "X = np.c_[np.ones(m),  data[:, 0]]\n",
    "theta = np.zeros(2); # initialize fitting parameters\n",
    "iterations = 100000;\n",
    "alpha = 0.01;"
   ]
  },
  {
   "cell_type": "code",
   "execution_count": 113,
   "metadata": {},
   "outputs": [
    {
     "name": "stdout",
     "output_type": "stream",
     "text": [
      "32.072733877455654\n",
      "54.24245508201238\n"
     ]
    }
   ],
   "source": [
    "# compute\n",
    "def computeCost (X, y, theta):\n",
    "    h = X.dot(theta)\n",
    "    quadErr = np.square(h-y)\n",
    "    return 1/(2*m) * sum(quadErr)\n",
    "    \n",
    "print(computeCost(X, y, theta))\n",
    "print(computeCost(X, y, [-1 , 2]))"
   ]
  },
  {
   "cell_type": "markdown",
   "metadata": {},
   "source": [
    "#### 2.2.4 Gradient descent"
   ]
  },
  {
   "cell_type": "code",
   "execution_count": 114,
   "metadata": {},
   "outputs": [
    {
     "name": "stdout",
     "output_type": "stream",
     "text": [
      "[-3.89578088  1.19303364]\n",
      "2798.3687635180445\n",
      "44554.546310153375\n"
     ]
    }
   ],
   "source": [
    "def gradientDescent(X, y, theta, alpha, num_iters):\n",
    "    m = np.size(y);\n",
    "    J_history = np.zeros(num_iters);\n",
    "    \n",
    "    for iter in range(1, num_iters+1):\n",
    "        err = X.dot(theta) - y\n",
    "        tt1 = err * X[:, 0]\n",
    "        tt2 = err * X[:, 1]\n",
    "        \n",
    "        theta[0] = theta[0] - (alpha/m) * np.sum(tt1)\n",
    "        theta[1] = theta[1] - (alpha/m) * np.sum(tt2)\n",
    "        \n",
    "        J_history[iter-1] = computeCost(X, y, theta);\n",
    "    \n",
    "    d = dict();  \n",
    "    d['theta'] = theta\n",
    "    d['J_History'] = J_history\n",
    "    return d \n",
    "\n",
    "ret = gradientDescent(X, y, theta, alpha, iterations)\n",
    "print(ret['theta'])\n",
    "\n",
    "predict1 = np.array([1, 3.5]).dot(theta)\n",
    "print(predict1*10000)\n",
    "\n",
    "predict1 = np.array([1, 7]).dot(theta)\n",
    "print(predict1*10000)\n"
   ]
  },
  {
   "cell_type": "code",
   "execution_count": null,
   "metadata": {},
   "outputs": [],
   "source": []
  }
 ],
 "metadata": {
  "kernelspec": {
   "display_name": "Python 3",
   "language": "python",
   "name": "python3"
  },
  "language_info": {
   "codemirror_mode": {
    "name": "ipython",
    "version": 3
   },
   "file_extension": ".py",
   "mimetype": "text/x-python",
   "name": "python",
   "nbconvert_exporter": "python",
   "pygments_lexer": "ipython3",
   "version": "3.7.3"
  }
 },
 "nbformat": 4,
 "nbformat_minor": 2
}
